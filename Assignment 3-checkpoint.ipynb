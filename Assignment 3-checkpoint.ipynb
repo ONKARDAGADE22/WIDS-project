{
 "cells": [
  {
   "cell_type": "code",
   "execution_count": 9,
   "id": "38275071",
   "metadata": {},
   "outputs": [
    {
     "name": "stdout",
     "output_type": "stream",
     "text": [
      "0.9\n",
      "Number of States: 50\n",
      "Number of Actions: 20\n",
      "Rewards:\n",
      "Optimal Values:\n",
      "[7.98554192 7.83729664 0.         7.66421624 7.83074135 7.82687821\n",
      " 7.94342716 8.26176912 7.86969159 8.34837074 7.71135528 7.77543066\n",
      " 7.91474086 8.00613256 8.1017072  8.08933745 0.         7.65255703\n",
      " 8.12485766 7.84316099 8.41576021 7.32133958 7.62795514 7.98452779\n",
      " 7.70891016 7.77701533 8.08961656 5.34050168 8.23876249 7.85545107\n",
      " 7.45737758 7.82969196 0.         7.66010071 0.         8.41825206\n",
      " 7.95922661 8.09763972 7.77800017 7.66162938 7.9910356  8.4977076\n",
      " 7.93330067 7.62353712 7.86419191 7.79944202 7.94846048 7.80615706\n",
      " 7.63789592 7.7452401 ]\n",
      "[16.  9.  0. 18. 15. 12. 10.  4. 14.  5. 11.  0. 17. 16.  0. 15.  0.  9.\n",
      "  4. 15. 12.  9.  2.  7. 13. 10. 15. 18. 19.  6.  3.  0.  0. 17.  0.  8.\n",
      " 17.  0. 18.  0.  3.  3.  8. 19. 10.  1.  7.  5. 18. 18.]\n",
      "i= 4000\n"
     ]
    }
   ],
   "source": [
    "import numpy as np\n",
    "with open('episodic-mdp-50-20.txt', 'r') as file:\n",
    "    for line_num, line in enumerate(file, 1):\n",
    "        words = line.split()\n",
    "        if words[0] == 'numStates':\n",
    "            \n",
    "            num_states = int(words[1])\n",
    "        if words[0] == 'numActions':\n",
    "            num_actions = int(words[1])\n",
    "rewards = np.zeros((num_states, num_actions, num_states), dtype=float)\n",
    "probabilities = np.zeros((num_states, num_actions, num_states), dtype=float)\n",
    "val = np.zeros((num_states, num_actions), dtype=float)\n",
    "v = np.zeros(num_states, dtype=float)\n",
    "num_iterations = 5000\n",
    "pol = np.zeros(num_states, dtype=float)\n",
    "diff_arr = np.zeros(num_states, dtype=float)\n",
    "next_v = np.zeros(num_states, dtype=float)\n",
    "eps = 0.0000001\n",
    "i = 0\n",
    "with open('episodic-mdp-50-20.txt', 'r') as file:\n",
    "    for line_num, line in enumerate(file, 1):\n",
    "        words = line.split()\n",
    "        if words[0] == 'transition':\n",
    "         \n",
    "            current_state = int(words[1])\n",
    "            action = int(words[2])\n",
    "            next_state = int(words[3])\n",
    "            reward = float(words[4])\n",
    "            probability = float(words[5])\n",
    "\n",
    "            rewards[current_state][action][next_state] = reward\n",
    "            probabilities[current_state][action][next_state] = probability\n",
    "\n",
    "        if words[0] == 'discount':\n",
    "            gamma = float(words[1])\n",
    "            print(gamma)\n",
    "\n",
    "print(\"Number of States:\", num_states)\n",
    "print(\"Number of Actions:\", num_actions)\n",
    "print(\"Rewards:\")\n",
    "diff = 50\n",
    "while diff > eps:\n",
    "    for s in range(num_states):\n",
    "        for a in range(num_actions):\n",
    "            val[s][a] = rewards[s][a] @ probabilities[s][a] + gamma * (probabilities[s][a] @ v)\n",
    "        next_v[s] = val[s].max()\n",
    "        diff_arr[s] = np.abs(next_v[s] - v[s])\n",
    "        v[s] = next_v[s]\n",
    "        diff = diff_arr.max()\n",
    "        i += 1\n",
    "        pol[s] = np.argmax(val[s])\n",
    "print(\"Optimal Values:\")\n",
    "print(v)\n",
    "print(pol)\n",
    "print(\"i=\", i)\n",
    "\n",
    "\n",
    "arr = np.column_stack((v, pol))\n",
    "\n",
    "\n",
    "file_name = 'sol-episodic-mdp-50-20.txt'\n",
    "\n",
    "\n",
    "np.savetxt(file_name, arr, fmt='%.4f %d', delimiter='\\t')\n",
    "\n"
   ]
  },
  {
   "cell_type": "code",
   "execution_count": 2,
   "id": "1e51af2d",
   "metadata": {},
   "outputs": [
    {
     "name": "stdout",
     "output_type": "stream",
     "text": [
      "Number of States: 50\n",
      "Number of Actions: 20\n",
      "Optimal Values:\n",
      "[0. 0. 0. 0. 0. 0. 0. 0. 0. 0. 0. 0. 0. 0. 0. 0. 0. 0. 0. 0. 0. 0. 0. 0.\n",
      " 0. 0. 0. 0. 0. 0. 0. 0. 0. 0. 0. 0. 0. 0. 0. 0. 0. 0. 0. 0. 0. 0. 0. 0.\n",
      " 0. 0.]\n",
      "[0. 0. 0. 0. 0. 0. 0. 0. 0. 0. 0. 0. 0. 0. 0. 0. 0. 0. 0. 0. 0. 0. 0. 0.\n",
      " 0. 0. 0. 0. 0. 0. 0. 0. 0. 0. 0. 0. 0. 0. 0. 0. 0. 0. 0. 0. 0. 0. 0. 0.\n",
      " 0. 0.]\n",
      "i= 50\n"
     ]
    }
   ],
   "source": []
  },
  {
   "cell_type": "code",
   "execution_count": 5,
   "id": "be10b1e8",
   "metadata": {},
   "outputs": [
    {
     "name": "stdout",
     "output_type": "stream",
     "text": [
      "Number of States: 50\n",
      "Number of Actions: 20\n",
      "Optimal Values:\n",
      "[0. 0. 0. 0. 0. 0. 0. 0. 0. 0. 0. 0. 0. 0. 0. 0. 0. 0. 0. 0. 0. 0. 0. 0.\n",
      " 0. 0. 0. 0. 0. 0. 0. 0. 0. 0. 0. 0. 0. 0. 0. 0. 0. 0. 0. 0. 0. 0. 0. 0.\n",
      " 0. 0.]\n",
      "0\n",
      "Number of iterations: 1\n"
     ]
    },
    {
     "ename": "ValueError",
     "evalue": "all the input array dimensions except for the concatenation axis must match exactly, but along dimension 0, the array at index 0 has size 50 and the array at index 1 has size 1",
     "output_type": "error",
     "traceback": [
      "\u001b[1;31m---------------------------------------------------------------------------\u001b[0m",
      "\u001b[1;31mValueError\u001b[0m                                Traceback (most recent call last)",
      "Cell \u001b[1;32mIn[5], line 65\u001b[0m\n\u001b[0;32m     62\u001b[0m     np\u001b[38;5;241m.\u001b[39msavetxt(file_name, arr, fmt\u001b[38;5;241m=\u001b[39m\u001b[38;5;124m'\u001b[39m\u001b[38;5;132;01m%.6f\u001b[39;00m\u001b[38;5;124m \u001b[39m\u001b[38;5;132;01m%d\u001b[39;00m\u001b[38;5;124m'\u001b[39m, delimiter\u001b[38;5;241m=\u001b[39m\u001b[38;5;124m'\u001b[39m\u001b[38;5;130;01m\\t\u001b[39;00m\u001b[38;5;124m'\u001b[39m)\n\u001b[0;32m     64\u001b[0m \u001b[38;5;28;01mif\u001b[39;00m \u001b[38;5;18m__name__\u001b[39m \u001b[38;5;241m==\u001b[39m \u001b[38;5;124m\"\u001b[39m\u001b[38;5;124m__main__\u001b[39m\u001b[38;5;124m\"\u001b[39m:\n\u001b[1;32m---> 65\u001b[0m     main()\n",
      "Cell \u001b[1;32mIn[5], line 56\u001b[0m, in \u001b[0;36mmain\u001b[1;34m()\u001b[0m\n\u001b[0;32m     53\u001b[0m \u001b[38;5;28mprint\u001b[39m(\u001b[38;5;124m\"\u001b[39m\u001b[38;5;124mNumber of iterations:\u001b[39m\u001b[38;5;124m\"\u001b[39m, i)\n\u001b[0;32m     55\u001b[0m \u001b[38;5;66;03m# Combine the arrays into a 2D array\u001b[39;00m\n\u001b[1;32m---> 56\u001b[0m arr \u001b[38;5;241m=\u001b[39m np\u001b[38;5;241m.\u001b[39mcolumn_stack((V, Pi))\n\u001b[0;32m     58\u001b[0m \u001b[38;5;66;03m# Specify the file name\u001b[39;00m\n\u001b[0;32m     59\u001b[0m file_name \u001b[38;5;241m=\u001b[39m \u001b[38;5;124m'\u001b[39m\u001b[38;5;124msol-episodic-mdp-50-20.txt\u001b[39m\u001b[38;5;124m'\u001b[39m\n",
      "File \u001b[1;32m<__array_function__ internals>:200\u001b[0m, in \u001b[0;36mcolumn_stack\u001b[1;34m(*args, **kwargs)\u001b[0m\n",
      "File \u001b[1;32m~\\anaconda3\\Lib\\site-packages\\numpy\\lib\\shape_base.py:656\u001b[0m, in \u001b[0;36mcolumn_stack\u001b[1;34m(tup)\u001b[0m\n\u001b[0;32m    654\u001b[0m         arr \u001b[38;5;241m=\u001b[39m array(arr, copy\u001b[38;5;241m=\u001b[39m\u001b[38;5;28;01mFalse\u001b[39;00m, subok\u001b[38;5;241m=\u001b[39m\u001b[38;5;28;01mTrue\u001b[39;00m, ndmin\u001b[38;5;241m=\u001b[39m\u001b[38;5;241m2\u001b[39m)\u001b[38;5;241m.\u001b[39mT\n\u001b[0;32m    655\u001b[0m     arrays\u001b[38;5;241m.\u001b[39mappend(arr)\n\u001b[1;32m--> 656\u001b[0m \u001b[38;5;28;01mreturn\u001b[39;00m _nx\u001b[38;5;241m.\u001b[39mconcatenate(arrays, \u001b[38;5;241m1\u001b[39m)\n",
      "File \u001b[1;32m<__array_function__ internals>:200\u001b[0m, in \u001b[0;36mconcatenate\u001b[1;34m(*args, **kwargs)\u001b[0m\n",
      "\u001b[1;31mValueError\u001b[0m: all the input array dimensions except for the concatenation axis must match exactly, but along dimension 0, the array at index 0 has size 50 and the array at index 1 has size 1"
     ]
    }
   ],
   "source": []
  },
  {
   "cell_type": "code",
   "execution_count": 3,
   "id": "38237fe8",
   "metadata": {},
   "outputs": [
    {
     "name": "stdout",
     "output_type": "stream",
     "text": [
      "Number of States: 50\n",
      "Number of Actions: 20\n",
      "Optimal Values:\n",
      "[0. 0. 0. 0. 0. 0. 0. 0. 0. 0. 0. 0. 0. 0. 0. 0. 0. 0. 0. 0. 0. 0. 0. 0.\n",
      " 0. 0. 0. 0. 0. 0. 0. 0. 0. 0. 0. 0. 0. 0. 0. 0. 0. 0. 0. 0. 0. 0. 0. 0.\n",
      " 0. 0.]\n",
      "0\n",
      "Number of iterations: 1\n"
     ]
    },
    {
     "ename": "ValueError",
     "evalue": "all the input array dimensions except for the concatenation axis must match exactly, but along dimension 0, the array at index 0 has size 50 and the array at index 1 has size 1",
     "output_type": "error",
     "traceback": [
      "\u001b[1;31m---------------------------------------------------------------------------\u001b[0m",
      "\u001b[1;31mValueError\u001b[0m                                Traceback (most recent call last)",
      "Cell \u001b[1;32mIn[3], line 65\u001b[0m\n\u001b[0;32m     62\u001b[0m     np\u001b[38;5;241m.\u001b[39msavetxt(file_name, arr, fmt\u001b[38;5;241m=\u001b[39m\u001b[38;5;124m'\u001b[39m\u001b[38;5;132;01m%.6f\u001b[39;00m\u001b[38;5;124m \u001b[39m\u001b[38;5;132;01m%d\u001b[39;00m\u001b[38;5;124m'\u001b[39m, delimiter\u001b[38;5;241m=\u001b[39m\u001b[38;5;124m'\u001b[39m\u001b[38;5;130;01m\\t\u001b[39;00m\u001b[38;5;124m'\u001b[39m)\n\u001b[0;32m     64\u001b[0m \u001b[38;5;28;01mif\u001b[39;00m \u001b[38;5;18m__name__\u001b[39m \u001b[38;5;241m==\u001b[39m \u001b[38;5;124m\"\u001b[39m\u001b[38;5;124m__main__\u001b[39m\u001b[38;5;124m\"\u001b[39m:\n\u001b[1;32m---> 65\u001b[0m     main()\n",
      "Cell \u001b[1;32mIn[3], line 56\u001b[0m, in \u001b[0;36mmain\u001b[1;34m()\u001b[0m\n\u001b[0;32m     53\u001b[0m \u001b[38;5;28mprint\u001b[39m(\u001b[38;5;124m\"\u001b[39m\u001b[38;5;124mNumber of iterations:\u001b[39m\u001b[38;5;124m\"\u001b[39m, i)\n\u001b[0;32m     55\u001b[0m \u001b[38;5;66;03m# Combine the arrays into a 2D array\u001b[39;00m\n\u001b[1;32m---> 56\u001b[0m arr \u001b[38;5;241m=\u001b[39m np\u001b[38;5;241m.\u001b[39mcolumn_stack((V, Pi))\n\u001b[0;32m     58\u001b[0m \u001b[38;5;66;03m# Specify the file name\u001b[39;00m\n\u001b[0;32m     59\u001b[0m file_name \u001b[38;5;241m=\u001b[39m \u001b[38;5;124m'\u001b[39m\u001b[38;5;124msol-episodic-mdp-50-20.txt\u001b[39m\u001b[38;5;124m'\u001b[39m\n",
      "File \u001b[1;32m<__array_function__ internals>:200\u001b[0m, in \u001b[0;36mcolumn_stack\u001b[1;34m(*args, **kwargs)\u001b[0m\n",
      "File \u001b[1;32m~\\anaconda3\\Lib\\site-packages\\numpy\\lib\\shape_base.py:656\u001b[0m, in \u001b[0;36mcolumn_stack\u001b[1;34m(tup)\u001b[0m\n\u001b[0;32m    654\u001b[0m         arr \u001b[38;5;241m=\u001b[39m array(arr, copy\u001b[38;5;241m=\u001b[39m\u001b[38;5;28;01mFalse\u001b[39;00m, subok\u001b[38;5;241m=\u001b[39m\u001b[38;5;28;01mTrue\u001b[39;00m, ndmin\u001b[38;5;241m=\u001b[39m\u001b[38;5;241m2\u001b[39m)\u001b[38;5;241m.\u001b[39mT\n\u001b[0;32m    655\u001b[0m     arrays\u001b[38;5;241m.\u001b[39mappend(arr)\n\u001b[1;32m--> 656\u001b[0m \u001b[38;5;28;01mreturn\u001b[39;00m _nx\u001b[38;5;241m.\u001b[39mconcatenate(arrays, \u001b[38;5;241m1\u001b[39m)\n",
      "File \u001b[1;32m<__array_function__ internals>:200\u001b[0m, in \u001b[0;36mconcatenate\u001b[1;34m(*args, **kwargs)\u001b[0m\n",
      "\u001b[1;31mValueError\u001b[0m: all the input array dimensions except for the concatenation axis must match exactly, but along dimension 0, the array at index 0 has size 50 and the array at index 1 has size 1"
     ]
    }
   ],
   "source": []
  },
  {
   "cell_type": "code",
   "execution_count": 10,
   "id": "d23400d4",
   "metadata": {},
   "outputs": [
    {
     "name": "stdout",
     "output_type": "stream",
     "text": [
      "Number of States: 50\n",
      "Number of Actions: 20\n",
      "Rewards:\n",
      "Optimal Values:\n",
      "[7.98554192 7.83729664 0.         7.66421624 7.83074135 7.82687821\n",
      " 7.94342716 8.26176912 7.86969159 8.34837074 7.71135528 7.77543066\n",
      " 7.91474086 8.00613256 8.1017072  8.08933745 0.         7.65255703\n",
      " 8.12485766 7.84316099 8.41576021 7.32133958 7.62795514 7.98452779\n",
      " 7.70891016 7.77701533 8.08961656 5.34050168 8.23876249 7.85545107\n",
      " 7.45737758 7.82969196 0.         7.66010071 0.         8.41825206\n",
      " 7.95922661 8.09763972 7.77800017 7.66162938 7.9910356  8.4977076\n",
      " 7.93330067 7.62353712 7.86419191 7.79944202 7.94846048 7.80615706\n",
      " 7.63789592 7.7452401 ]\n",
      "[16.  9.  0. 18. 15. 12. 10.  4. 14.  5. 11.  0. 17. 16.  0. 15.  0.  9.\n",
      "  4. 15. 12.  9.  2.  7. 13. 10. 15. 18. 19.  6.  3.  0.  0. 17.  0.  8.\n",
      " 17.  0. 18.  0.  3.  3.  8. 19. 10.  1.  7.  5. 18. 18.]\n",
      "i= 4000\n"
     ]
    }
   ],
   "source": [
    "import numpy as np\n",
    "\n",
    "with open('continuing-mdp-50-20', 'r') as file:\n",
    "    for line_num, line in enumerate(file, 1):\n",
    "        w = line.split()\n",
    "        if w[0] == 'numStates':\n",
    "            n_s = int(w[1])\n",
    "        if w[0] == 'numActions':\n",
    "            n_a = int(w[1])\n",
    "\n",
    "r = np.zeros((n_s, n_a, n_s), dtype=float)\n",
    "p = np.zeros((n_s, n_a, n_s), dtype=float)\n",
    "val = np.zeros((n_s, n_a), dtype=float)\n",
    "v = np.zeros(n_s, dtype=float)\n",
    "num_iterations = 5000\n",
    "policy = np.zeros(n_s, dtype=float)\n",
    "diff_arr = np.zeros(n_s, dtype=float)\n",
    "next_v = np.zeros(n_s, dtype=float)\n",
    "eps = 0.0000001\n",
    "i = 0\n",
    "\n",
    "with open('continuing-mdp-50-20.txt', 'r') as file:\n",
    "    for line_num, line in enumerate(file, 1):\n",
    "        w = line.split()\n",
    "        if w[0] == 'transition':\n",
    "            s, a, ns, rwd, prob = map(float, w[1:])\n",
    "            r[int(s)][int(a)][int(ns)] = rwd\n",
    "            p[int(s)][int(a)][int(ns)] = prob\n",
    "\n",
    "        if w[0] == 'discount':\n",
    "            g = float(w[1])\n",
    "\n",
    "print(\"Number of States:\", n_s)\n",
    "print(\"Number of Actions:\", n_a)\n",
    "print(\"Rewards:\")\n",
    "\n",
    "diff = 50\n",
    "while diff > eps:\n",
    "    for s in range(n_s):\n",
    "        for a in range(n_a):\n",
    "            val[s][a] = r[s][a] @ p[s][a] + g * (p[s][a] @ v)\n",
    "        next_v[s] = val[s].max()\n",
    "        diff_arr[s] = np.abs(next_v[s] - v[s])\n",
    "        v[s] = next_v[s]\n",
    "        diff = diff_arr.max()\n",
    "        i += 1\n",
    "        policy[s] = np.argmax(val[s])\n",
    "\n",
    "print(\"Optimal Values:\")\n",
    "print(v)\n",
    "print(policy)\n",
    "print(\"i=\", i)\n",
    "\n",
    "arr = np.column_stack((v, policy))\n",
    "f_n = 'sol-episodic-mdp-50-20.txt'\n",
    "np.savetxt(f_n, arr, fmt='%.4f %d', delimiter='\\t')\n"
   ]
  },
  {
   "cell_type": "code",
   "execution_count": null,
   "id": "9185a925",
   "metadata": {},
   "outputs": [],
   "source": []
  }
 ],
 "metadata": {
  "kernelspec": {
   "display_name": "Python 3 (ipykernel)",
   "language": "python",
   "name": "python3"
  },
  "language_info": {
   "codemirror_mode": {
    "name": "ipython",
    "version": 3
   },
   "file_extension": ".py",
   "mimetype": "text/x-python",
   "name": "python",
   "nbconvert_exporter": "python",
   "pygments_lexer": "ipython3",
   "version": "3.11.3"
  }
 },
 "nbformat": 4,
 "nbformat_minor": 5
}
